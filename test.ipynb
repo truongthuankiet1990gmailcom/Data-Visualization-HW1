{
 "cells": [
  {
   "cell_type": "code",
   "execution_count": 1,
   "metadata": {},
   "outputs": [],
   "source": [
    "import requests\n",
    "import json\n",
    "import sys\n",
    "from bs4 import BeautifulSoup\n",
    "import re"
   ]
  },
  {
   "cell_type": "code",
   "execution_count": null,
   "metadata": {},
   "outputs": [
    {
     "name": "stdout",
     "output_type": "stream",
     "text": [
      "Could not retrieve genres.\n",
      "Genres for Glass Animals: indie pop, indie rock, pop, pop rock, psychedelic pop, contemporary r&b, electronic rock, rock, indietronica\n"
     ]
    }
   ],
   "source": [
    "import requests\n",
    "\n",
    "def get_genre(artist_name, album_name = \"\"):\n",
    "    url = \"https://api.getgenre.com/search\"\n",
    "    params = {\n",
    "        \"artist_name\": artist_name,\n",
    "        \"album_name\": album_name\n",
    "    }\n",
    "    \n",
    "    try:\n",
    "        response = requests.get(url, params=params)\n",
    "        response.raise_for_status()  # Raise an error if the request fails\n",
    "        data = response.json()\n",
    "        \n",
    "        # Assuming the API returns a JSON response with a \"genres\" field\n",
    "        genres = data.get(\"genres\", [])\n",
    "        return genres\n",
    "    \n",
    "    except requests.exceptions.RequestException as e:\n",
    "        print(\"Error:\", e)\n",
    "        return None\n",
    "\n",
    "# Example usage\n",
    "artist = \"Grace Liu\"\n",
    "album = \"Dreamland\"\n",
    "genres_with_album = get_genre(artist, album)\n",
    "\n",
    "if genres_with_album:\n",
    "    print(f\"Genres for '{album}' by {artist}: {', '.join(genres_with_album)}\")\n",
    "else:\n",
    "    print(\"Could not retrieve genres.\")\n",
    "    \n",
    "    \n",
    "genres_without_album = get_genre(artist)\n",
    "\n",
    "if genres_without_album:\n",
    "    print(f\"Genres for {artist}: {', '.join(genres_without_album)}\")\n",
    "else:\n",
    "    print(\"Could not retrieve genres.\")\n"
   ]
  },
  {
   "cell_type": "code",
   "execution_count": 17,
   "metadata": {},
   "outputs": [
    {
     "name": "stdout",
     "output_type": "stream",
     "text": [
      "\n"
     ]
    }
   ],
   "source": [
    "genres = soup.find_all('div', {'class': 'genres'})\n",
    "for genre in genres:\n",
    "    print(genre.text)"
   ]
  }
 ],
 "metadata": {
  "kernelspec": {
   "display_name": "Python 3",
   "language": "python",
   "name": "python3"
  },
  "language_info": {
   "codemirror_mode": {
    "name": "ipython",
    "version": 3
   },
   "file_extension": ".py",
   "mimetype": "text/x-python",
   "name": "python",
   "nbconvert_exporter": "python",
   "pygments_lexer": "ipython3",
   "version": "3.12.8"
  }
 },
 "nbformat": 4,
 "nbformat_minor": 2
}
